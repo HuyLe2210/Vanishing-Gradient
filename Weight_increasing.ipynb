{
  "cells": [
    {
      "cell_type": "markdown",
      "id": "HItsinp0SFqA",
      "metadata": {
        "id": "HItsinp0SFqA"
      },
      "source": [
        "## **0. Import libraries**"
      ]
    },
    {
      "cell_type": "code",
      "execution_count": null,
      "id": "bb96f0ec-3525-4e79-9ad1-8e95c15a9cf2",
      "metadata": {
        "id": "bb96f0ec-3525-4e79-9ad1-8e95c15a9cf2"
      },
      "outputs": [],
      "source": [
        "import torch\n",
        "import random\n",
        "from torch import nn\n",
        "import torch.optim as optim\n",
        "from torch.utils.data import Dataset, DataLoader, random_split\n",
        "import torchvision\n",
        "from torchvision.datasets import FashionMNIST\n",
        "import matplotlib.pyplot as plt\n",
        "import torchvision.transforms as transforms\n",
        "import numpy as np\n",
        "\n",
        "device = torch.device('cuda:0' if torch.cuda.is_available() else 'cpu')"
      ]
    },
    {
      "cell_type": "code",
      "source": [
        "def set_seed(seed):\n",
        "    random.seed(seed)\n",
        "    np.random.seed(seed)\n",
        "    torch.manual_seed(seed)\n",
        "    torch.cuda.manual_seed(seed)\n",
        "    torch.cuda.manual_seed_all(seed)\n",
        "    torch.backends.cudnn.deterministic = True\n",
        "    torch.backends.cudnn.benchmark = False\n",
        "\n",
        "SEED = 42\n",
        "set_seed(SEED)"
      ],
      "metadata": {
        "id": "P3ehfc2p0vqq"
      },
      "id": "P3ehfc2p0vqq",
      "execution_count": null,
      "outputs": []
    },
    {
      "cell_type": "markdown",
      "source": [
        "## **1. Prepare dataset**\n"
      ],
      "metadata": {
        "id": "Mw6hLiNAugrD"
      },
      "id": "Mw6hLiNAugrD"
    },
    {
      "cell_type": "code",
      "execution_count": null,
      "id": "c73f1e96-b8ea-4b8f-b4f3-9b3f27b42acd",
      "metadata": {
        "id": "c73f1e96-b8ea-4b8f-b4f3-9b3f27b42acd",
        "colab": {
          "base_uri": "https://localhost:8080/"
        },
        "outputId": "3aa87dcd-6dea-4230-ba0f-8c835067aacc"
      },
      "outputs": [
        {
          "output_type": "stream",
          "name": "stdout",
          "text": [
            "Train size: 54000\n",
            "Validation size: 6000\n",
            "Test size: 10000\n"
          ]
        }
      ],
      "source": [
        "batch_size = 512\n",
        "\n",
        "train_dataset = FashionMNIST(root='./data', train=True, download=True, transform=transforms.ToTensor())\n",
        "test_dataset = FashionMNIST(root='./data', train=False, download=True, transform=transforms.ToTensor())\n",
        "\n",
        "train_ratio = 0.9\n",
        "train_size = int(len(train_dataset) * train_ratio)\n",
        "val_size = len(train_dataset) - train_size\n",
        "\n",
        "train_subset, val_subset = random_split(train_dataset, [train_size, val_size])\n",
        "\n",
        "train_loader = DataLoader(train_subset, batch_size=batch_size, shuffle=True)\n",
        "val_loader = DataLoader(val_subset, batch_size=batch_size, shuffle=False)\n",
        "test_loader = DataLoader(test_dataset, batch_size=batch_size, shuffle=False)\n",
        "\n",
        "print(f\"Train size: {len(train_subset)}\")\n",
        "print(f\"Validation size: {len(val_subset)}\")\n",
        "print(f\"Test size: {len(test_dataset)}\")"
      ]
    },
    {
      "cell_type": "markdown",
      "id": "75eeaa46",
      "metadata": {
        "id": "75eeaa46"
      },
      "source": [
        "## **2. Build MLP network**\n",
        "\n",
        "\n"
      ]
    },
    {
      "cell_type": "code",
      "execution_count": null,
      "id": "589bb0df",
      "metadata": {
        "id": "589bb0df"
      },
      "outputs": [],
      "source": [
        "class MLP(nn.Module):\n",
        "    def __init__(self, input_dims, hidden_dims, output_dims):\n",
        "        super(MLP, self).__init__()\n",
        "        self.layer1 = nn.Linear(input_dims, hidden_dims)\n",
        "        self.layer2 = nn.Linear(hidden_dims, hidden_dims)\n",
        "        self.layer3 = nn.Linear(hidden_dims, hidden_dims)\n",
        "        self.layer4 = nn.Linear(hidden_dims, hidden_dims)\n",
        "        self.layer5 = nn.Linear(hidden_dims, hidden_dims)\n",
        "        self.layer6 = nn.Linear(hidden_dims, hidden_dims)\n",
        "        self.layer7 = nn.Linear(hidden_dims, hidden_dims)\n",
        "        self.output = nn.Linear(hidden_dims, output_dims)\n",
        "\n",
        "        for module in self.modules():\n",
        "            if isinstance(module, nn.Linear):\n",
        "                nn.init.normal_(module.weight, mean=0.0, std=1.0)\n",
        "                nn.init.constant_(module.bias, 0.0)\n",
        "\n",
        "    def forward(self, x):\n",
        "        x = nn.Flatten()(x)\n",
        "        x = self.layer1(x)\n",
        "        x = nn.Sigmoid()(x)\n",
        "        x = self.layer2(x)\n",
        "        x = nn.Sigmoid()(x)\n",
        "        x = self.layer3(x)\n",
        "        x = nn.Sigmoid()(x)\n",
        "        x = self.layer4(x)\n",
        "        x = nn.Sigmoid()(x)\n",
        "        x = self.layer5(x)\n",
        "        x = nn.Sigmoid()(x)\n",
        "        x = self.layer6(x)\n",
        "        x = nn.Sigmoid()(x)\n",
        "        x = self.layer7(x)\n",
        "        x = nn.Sigmoid()(x)\n",
        "        out = self.output(x)\n",
        "        return out"
      ]
    },
    {
      "cell_type": "code",
      "execution_count": null,
      "id": "0db5beca-ee90-4d2e-bb2f-62b20da68cf3",
      "metadata": {
        "id": "0db5beca-ee90-4d2e-bb2f-62b20da68cf3"
      },
      "outputs": [],
      "source": [
        "input_dims = 784\n",
        "hidden_dims = 128\n",
        "output_dims = 10\n",
        "lr = 1e-2\n",
        "\n",
        "model = MLP(input_dims=input_dims,\n",
        "            hidden_dims=hidden_dims,\n",
        "            output_dims=output_dims).to(device)\n",
        "\n",
        "criterion = nn.CrossEntropyLoss()\n",
        "optimizer = optim.SGD(model.parameters(), lr=lr)"
      ]
    },
    {
      "cell_type": "markdown",
      "source": [
        "## **3. Training**"
      ],
      "metadata": {
        "id": "lBS7q-JzwFgC"
      },
      "id": "lBS7q-JzwFgC"
    },
    {
      "cell_type": "code",
      "execution_count": null,
      "id": "21211483-aeed-4beb-aeea-d1e58ae7baf9",
      "metadata": {
        "id": "21211483-aeed-4beb-aeea-d1e58ae7baf9",
        "colab": {
          "base_uri": "https://localhost:8080/"
        },
        "outputId": "10adc1c8-62d9-4788-d482-1bcd8608a5e7"
      },
      "outputs": [
        {
          "output_type": "stream",
          "name": "stdout",
          "text": [
            "EPOCH 1/100, Train_Loss: 3.8124, Train_Acc: 0.1499, Validation Loss: 1.3496, Val_Acc: 0.2165\n",
            "EPOCH 2/100, Train_Loss: 2.0679, Train_Acc: 0.2750, Validation Loss: 1.1564, Val_Acc: 0.3235\n",
            "EPOCH 3/100, Train_Loss: 1.8399, Train_Acc: 0.3528, Validation Loss: 1.0565, Val_Acc: 0.3898\n",
            "EPOCH 4/100, Train_Loss: 1.6996, Train_Acc: 0.4073, Validation Loss: 0.9865, Val_Acc: 0.4363\n",
            "EPOCH 5/100, Train_Loss: 1.5923, Train_Acc: 0.4462, Validation Loss: 0.9296, Val_Acc: 0.4667\n",
            "EPOCH 6/100, Train_Loss: 1.5023, Train_Acc: 0.4782, Validation Loss: 0.8803, Val_Acc: 0.4885\n",
            "EPOCH 7/100, Train_Loss: 1.4273, Train_Acc: 0.5046, Validation Loss: 0.8393, Val_Acc: 0.5123\n",
            "EPOCH 8/100, Train_Loss: 1.3631, Train_Acc: 0.5232, Validation Loss: 0.8042, Val_Acc: 0.5287\n",
            "EPOCH 9/100, Train_Loss: 1.3088, Train_Acc: 0.5388, Validation Loss: 0.7749, Val_Acc: 0.5463\n",
            "EPOCH 10/100, Train_Loss: 1.2624, Train_Acc: 0.5529, Validation Loss: 0.7493, Val_Acc: 0.5593\n",
            "EPOCH 11/100, Train_Loss: 1.2236, Train_Acc: 0.5637, Validation Loss: 0.7282, Val_Acc: 0.5692\n",
            "EPOCH 12/100, Train_Loss: 1.1896, Train_Acc: 0.5734, Validation Loss: 0.7092, Val_Acc: 0.5820\n",
            "EPOCH 13/100, Train_Loss: 1.1601, Train_Acc: 0.5839, Validation Loss: 0.6926, Val_Acc: 0.5882\n",
            "EPOCH 14/100, Train_Loss: 1.1334, Train_Acc: 0.5906, Validation Loss: 0.6786, Val_Acc: 0.5928\n",
            "EPOCH 15/100, Train_Loss: 1.1104, Train_Acc: 0.5974, Validation Loss: 0.6658, Val_Acc: 0.6000\n",
            "EPOCH 16/100, Train_Loss: 1.0889, Train_Acc: 0.6043, Validation Loss: 0.6549, Val_Acc: 0.6065\n",
            "EPOCH 17/100, Train_Loss: 1.0703, Train_Acc: 0.6107, Validation Loss: 0.6453, Val_Acc: 0.6085\n",
            "EPOCH 18/100, Train_Loss: 1.0525, Train_Acc: 0.6168, Validation Loss: 0.6365, Val_Acc: 0.6125\n",
            "EPOCH 19/100, Train_Loss: 1.0374, Train_Acc: 0.6217, Validation Loss: 0.6283, Val_Acc: 0.6172\n",
            "EPOCH 20/100, Train_Loss: 1.0234, Train_Acc: 0.6268, Validation Loss: 0.6212, Val_Acc: 0.6193\n",
            "EPOCH 21/100, Train_Loss: 1.0103, Train_Acc: 0.6309, Validation Loss: 0.6146, Val_Acc: 0.6240\n",
            "EPOCH 22/100, Train_Loss: 0.9983, Train_Acc: 0.6347, Validation Loss: 0.6089, Val_Acc: 0.6268\n",
            "EPOCH 23/100, Train_Loss: 0.9874, Train_Acc: 0.6386, Validation Loss: 0.6041, Val_Acc: 0.6317\n",
            "EPOCH 24/100, Train_Loss: 0.9771, Train_Acc: 0.6426, Validation Loss: 0.5981, Val_Acc: 0.6338\n",
            "EPOCH 25/100, Train_Loss: 0.9672, Train_Acc: 0.6465, Validation Loss: 0.5932, Val_Acc: 0.6387\n",
            "EPOCH 26/100, Train_Loss: 0.9581, Train_Acc: 0.6494, Validation Loss: 0.5886, Val_Acc: 0.6413\n",
            "EPOCH 27/100, Train_Loss: 0.9489, Train_Acc: 0.6526, Validation Loss: 0.5848, Val_Acc: 0.6425\n",
            "EPOCH 28/100, Train_Loss: 0.9408, Train_Acc: 0.6548, Validation Loss: 0.5803, Val_Acc: 0.6442\n",
            "EPOCH 29/100, Train_Loss: 0.9330, Train_Acc: 0.6580, Validation Loss: 0.5770, Val_Acc: 0.6445\n",
            "EPOCH 30/100, Train_Loss: 0.9260, Train_Acc: 0.6606, Validation Loss: 0.5728, Val_Acc: 0.6500\n",
            "EPOCH 31/100, Train_Loss: 0.9188, Train_Acc: 0.6636, Validation Loss: 0.5693, Val_Acc: 0.6502\n",
            "EPOCH 32/100, Train_Loss: 0.9121, Train_Acc: 0.6668, Validation Loss: 0.5660, Val_Acc: 0.6527\n",
            "EPOCH 33/100, Train_Loss: 0.9064, Train_Acc: 0.6691, Validation Loss: 0.5633, Val_Acc: 0.6550\n",
            "EPOCH 34/100, Train_Loss: 0.8998, Train_Acc: 0.6704, Validation Loss: 0.5597, Val_Acc: 0.6548\n",
            "EPOCH 35/100, Train_Loss: 0.8938, Train_Acc: 0.6721, Validation Loss: 0.5571, Val_Acc: 0.6548\n",
            "EPOCH 36/100, Train_Loss: 0.8890, Train_Acc: 0.6744, Validation Loss: 0.5543, Val_Acc: 0.6597\n",
            "EPOCH 37/100, Train_Loss: 0.8826, Train_Acc: 0.6766, Validation Loss: 0.5510, Val_Acc: 0.6607\n",
            "EPOCH 38/100, Train_Loss: 0.8779, Train_Acc: 0.6780, Validation Loss: 0.5486, Val_Acc: 0.6628\n",
            "EPOCH 39/100, Train_Loss: 0.8726, Train_Acc: 0.6794, Validation Loss: 0.5461, Val_Acc: 0.6645\n",
            "EPOCH 40/100, Train_Loss: 0.8676, Train_Acc: 0.6813, Validation Loss: 0.5434, Val_Acc: 0.6647\n",
            "EPOCH 41/100, Train_Loss: 0.8629, Train_Acc: 0.6831, Validation Loss: 0.5409, Val_Acc: 0.6668\n",
            "EPOCH 42/100, Train_Loss: 0.8584, Train_Acc: 0.6840, Validation Loss: 0.5383, Val_Acc: 0.6702\n",
            "EPOCH 43/100, Train_Loss: 0.8536, Train_Acc: 0.6854, Validation Loss: 0.5361, Val_Acc: 0.6707\n",
            "EPOCH 44/100, Train_Loss: 0.8495, Train_Acc: 0.6869, Validation Loss: 0.5342, Val_Acc: 0.6720\n",
            "EPOCH 45/100, Train_Loss: 0.8446, Train_Acc: 0.6884, Validation Loss: 0.5318, Val_Acc: 0.6752\n",
            "EPOCH 46/100, Train_Loss: 0.8413, Train_Acc: 0.6893, Validation Loss: 0.5297, Val_Acc: 0.6733\n",
            "EPOCH 47/100, Train_Loss: 0.8373, Train_Acc: 0.6911, Validation Loss: 0.5277, Val_Acc: 0.6765\n",
            "EPOCH 48/100, Train_Loss: 0.8332, Train_Acc: 0.6926, Validation Loss: 0.5257, Val_Acc: 0.6762\n",
            "EPOCH 49/100, Train_Loss: 0.8291, Train_Acc: 0.6936, Validation Loss: 0.5236, Val_Acc: 0.6785\n",
            "EPOCH 50/100, Train_Loss: 0.8254, Train_Acc: 0.6953, Validation Loss: 0.5215, Val_Acc: 0.6788\n",
            "EPOCH 51/100, Train_Loss: 0.8225, Train_Acc: 0.6962, Validation Loss: 0.5200, Val_Acc: 0.6793\n",
            "EPOCH 52/100, Train_Loss: 0.8180, Train_Acc: 0.6968, Validation Loss: 0.5176, Val_Acc: 0.6790\n",
            "EPOCH 53/100, Train_Loss: 0.8149, Train_Acc: 0.6982, Validation Loss: 0.5162, Val_Acc: 0.6818\n",
            "EPOCH 54/100, Train_Loss: 0.8115, Train_Acc: 0.6992, Validation Loss: 0.5142, Val_Acc: 0.6853\n",
            "EPOCH 55/100, Train_Loss: 0.8080, Train_Acc: 0.7007, Validation Loss: 0.5131, Val_Acc: 0.6847\n",
            "EPOCH 56/100, Train_Loss: 0.8046, Train_Acc: 0.7015, Validation Loss: 0.5114, Val_Acc: 0.6845\n",
            "EPOCH 57/100, Train_Loss: 0.8015, Train_Acc: 0.7030, Validation Loss: 0.5099, Val_Acc: 0.6873\n",
            "EPOCH 58/100, Train_Loss: 0.7986, Train_Acc: 0.7034, Validation Loss: 0.5079, Val_Acc: 0.6868\n",
            "EPOCH 59/100, Train_Loss: 0.7952, Train_Acc: 0.7056, Validation Loss: 0.5061, Val_Acc: 0.6877\n",
            "EPOCH 60/100, Train_Loss: 0.7928, Train_Acc: 0.7060, Validation Loss: 0.5050, Val_Acc: 0.6898\n",
            "EPOCH 61/100, Train_Loss: 0.7903, Train_Acc: 0.7067, Validation Loss: 0.5029, Val_Acc: 0.6923\n",
            "EPOCH 62/100, Train_Loss: 0.7870, Train_Acc: 0.7077, Validation Loss: 0.5016, Val_Acc: 0.6925\n",
            "EPOCH 63/100, Train_Loss: 0.7842, Train_Acc: 0.7087, Validation Loss: 0.5004, Val_Acc: 0.6922\n",
            "EPOCH 64/100, Train_Loss: 0.7815, Train_Acc: 0.7106, Validation Loss: 0.4989, Val_Acc: 0.6942\n",
            "EPOCH 65/100, Train_Loss: 0.7793, Train_Acc: 0.7113, Validation Loss: 0.4975, Val_Acc: 0.6948\n",
            "EPOCH 66/100, Train_Loss: 0.7766, Train_Acc: 0.7123, Validation Loss: 0.4964, Val_Acc: 0.6948\n",
            "EPOCH 67/100, Train_Loss: 0.7743, Train_Acc: 0.7133, Validation Loss: 0.4947, Val_Acc: 0.6963\n",
            "EPOCH 68/100, Train_Loss: 0.7710, Train_Acc: 0.7146, Validation Loss: 0.4936, Val_Acc: 0.6968\n",
            "EPOCH 69/100, Train_Loss: 0.7693, Train_Acc: 0.7149, Validation Loss: 0.4933, Val_Acc: 0.6977\n",
            "EPOCH 70/100, Train_Loss: 0.7666, Train_Acc: 0.7157, Validation Loss: 0.4911, Val_Acc: 0.6993\n",
            "EPOCH 71/100, Train_Loss: 0.7645, Train_Acc: 0.7161, Validation Loss: 0.4899, Val_Acc: 0.7005\n",
            "EPOCH 72/100, Train_Loss: 0.7617, Train_Acc: 0.7168, Validation Loss: 0.4886, Val_Acc: 0.7012\n",
            "EPOCH 73/100, Train_Loss: 0.7599, Train_Acc: 0.7186, Validation Loss: 0.4877, Val_Acc: 0.7022\n",
            "EPOCH 74/100, Train_Loss: 0.7571, Train_Acc: 0.7190, Validation Loss: 0.4864, Val_Acc: 0.7042\n",
            "EPOCH 75/100, Train_Loss: 0.7554, Train_Acc: 0.7193, Validation Loss: 0.4856, Val_Acc: 0.7038\n",
            "EPOCH 76/100, Train_Loss: 0.7533, Train_Acc: 0.7205, Validation Loss: 0.4840, Val_Acc: 0.7042\n",
            "EPOCH 77/100, Train_Loss: 0.7508, Train_Acc: 0.7217, Validation Loss: 0.4828, Val_Acc: 0.7050\n",
            "EPOCH 78/100, Train_Loss: 0.7487, Train_Acc: 0.7222, Validation Loss: 0.4819, Val_Acc: 0.7057\n",
            "EPOCH 79/100, Train_Loss: 0.7470, Train_Acc: 0.7227, Validation Loss: 0.4805, Val_Acc: 0.7057\n",
            "EPOCH 80/100, Train_Loss: 0.7444, Train_Acc: 0.7238, Validation Loss: 0.4797, Val_Acc: 0.7058\n",
            "EPOCH 81/100, Train_Loss: 0.7426, Train_Acc: 0.7249, Validation Loss: 0.4789, Val_Acc: 0.7090\n",
            "EPOCH 82/100, Train_Loss: 0.7406, Train_Acc: 0.7253, Validation Loss: 0.4776, Val_Acc: 0.7085\n",
            "EPOCH 83/100, Train_Loss: 0.7385, Train_Acc: 0.7249, Validation Loss: 0.4768, Val_Acc: 0.7087\n",
            "EPOCH 84/100, Train_Loss: 0.7370, Train_Acc: 0.7266, Validation Loss: 0.4754, Val_Acc: 0.7078\n",
            "EPOCH 85/100, Train_Loss: 0.7349, Train_Acc: 0.7275, Validation Loss: 0.4752, Val_Acc: 0.7120\n",
            "EPOCH 86/100, Train_Loss: 0.7332, Train_Acc: 0.7281, Validation Loss: 0.4738, Val_Acc: 0.7107\n",
            "EPOCH 87/100, Train_Loss: 0.7319, Train_Acc: 0.7291, Validation Loss: 0.4730, Val_Acc: 0.7110\n",
            "EPOCH 88/100, Train_Loss: 0.7294, Train_Acc: 0.7300, Validation Loss: 0.4718, Val_Acc: 0.7118\n",
            "EPOCH 89/100, Train_Loss: 0.7276, Train_Acc: 0.7302, Validation Loss: 0.4706, Val_Acc: 0.7130\n",
            "EPOCH 90/100, Train_Loss: 0.7263, Train_Acc: 0.7306, Validation Loss: 0.4697, Val_Acc: 0.7130\n",
            "EPOCH 91/100, Train_Loss: 0.7236, Train_Acc: 0.7314, Validation Loss: 0.4693, Val_Acc: 0.7122\n",
            "EPOCH 92/100, Train_Loss: 0.7229, Train_Acc: 0.7322, Validation Loss: 0.4682, Val_Acc: 0.7162\n",
            "EPOCH 93/100, Train_Loss: 0.7204, Train_Acc: 0.7326, Validation Loss: 0.4677, Val_Acc: 0.7163\n",
            "EPOCH 94/100, Train_Loss: 0.7189, Train_Acc: 0.7327, Validation Loss: 0.4665, Val_Acc: 0.7143\n",
            "EPOCH 95/100, Train_Loss: 0.7175, Train_Acc: 0.7337, Validation Loss: 0.4653, Val_Acc: 0.7158\n",
            "EPOCH 96/100, Train_Loss: 0.7160, Train_Acc: 0.7343, Validation Loss: 0.4646, Val_Acc: 0.7167\n",
            "EPOCH 97/100, Train_Loss: 0.7139, Train_Acc: 0.7347, Validation Loss: 0.4637, Val_Acc: 0.7178\n",
            "EPOCH 98/100, Train_Loss: 0.7123, Train_Acc: 0.7361, Validation Loss: 0.4631, Val_Acc: 0.7200\n",
            "EPOCH 99/100, Train_Loss: 0.7106, Train_Acc: 0.7360, Validation Loss: 0.4623, Val_Acc: 0.7208\n",
            "EPOCH 100/100, Train_Loss: 0.7098, Train_Acc: 0.7373, Validation Loss: 0.4615, Val_Acc: 0.7210\n"
          ]
        }
      ],
      "source": [
        "epochs = 100\n",
        "train_loss_lst = []\n",
        "train_acc_lst = []\n",
        "val_loss_lst = []\n",
        "val_acc_lst = []\n",
        "\n",
        "for epoch in range(epochs):\n",
        "    train_loss = 0.0\n",
        "    train_acc = 0.0\n",
        "    count = 0\n",
        "\n",
        "    model.train()\n",
        "    for X_train, y_train in train_loader:\n",
        "        X_train, y_train = X_train.to(device), y_train.to(device)\n",
        "        optimizer.zero_grad()\n",
        "        outputs = model(X_train)\n",
        "        loss = criterion(outputs, y_train)\n",
        "        loss.backward()\n",
        "        optimizer.step()\n",
        "        train_loss += loss.item()\n",
        "        train_acc += (torch.argmax(outputs, 1) == y_train).sum().item()\n",
        "        count += len(y_train)\n",
        "\n",
        "    train_loss /= len(train_loader)\n",
        "    train_loss_lst.append(train_loss)\n",
        "    train_acc /= count\n",
        "    train_acc_lst.append(train_acc)\n",
        "\n",
        "    val_loss = 0.0\n",
        "    val_acc = 0.0\n",
        "    count = 0\n",
        "    model.eval()\n",
        "    with torch.no_grad():\n",
        "        for X_val, y_val in val_loader:\n",
        "            X_val, y_val = X_val.to(device), y_val.to(device)\n",
        "            outputs = model(X_val)\n",
        "            loss = criterion(outputs, y_val)\n",
        "            val_loss += loss.item()\n",
        "            val_acc += (torch.argmax(outputs, 1) == y_val).sum().item()\n",
        "            count += len(y_val)\n",
        "\n",
        "    val_loss /= len(test_loader)\n",
        "    val_loss_lst.append(val_loss)\n",
        "    val_acc /= count\n",
        "    val_acc_lst.append(val_acc)\n",
        "\n",
        "    print(f\"EPOCH {epoch+1}/{epochs}, Train_Loss: {train_loss:.4f}, Train_Acc: {train_acc:.4f}, Validation Loss: {val_loss:.4f}, Val_Acc: {val_acc:.4f}\")"
      ]
    },
    {
      "cell_type": "code",
      "execution_count": null,
      "id": "321d7070-b736-4ebb-94fa-59cd37ff50b3",
      "metadata": {
        "id": "321d7070-b736-4ebb-94fa-59cd37ff50b3",
        "colab": {
          "base_uri": "https://localhost:8080/",
          "height": 872
        },
        "outputId": "3eb07a07-6c16-4f26-a38d-faa28ffcc727"
      },
      "outputs": [
        {
          "output_type": "display_data",
          "data": {
            "text/plain": [
              "<Figure size 1200x1000 with 4 Axes>"
            ],
            "image/png": "[encoded data removed]"
          },
          "metadata": {}
        }
      ],
      "source": [
        "fig, ax = plt.subplots(2, 2, figsize=(12, 10))\n",
        "ax[0, 0].plot(train_loss_lst, color='green')\n",
        "ax[0, 0].set(xlabel='Epoch', ylabel='Loss')\n",
        "ax[0, 0].set_title('Training Loss')\n",
        "\n",
        "ax[0, 1].plot(val_loss_lst, color='orange')\n",
        "ax[0, 1].set(xlabel='Epoch', ylabel='Loss')\n",
        "ax[0, 1].set_title('Validation Loss')\n",
        "\n",
        "ax[1, 0].plot(train_acc_lst, color='green')\n",
        "ax[1, 0].set(xlabel='Epoch', ylabel='Accuracy')\n",
        "ax[1, 0].set_title('Training Accuracy')\n",
        "\n",
        "ax[1, 1].plot(val_acc_lst, color='orange')\n",
        "ax[1, 1].set(xlabel='Epoch', ylabel='Accuracy')\n",
        "ax[1, 1].set_title('Validation Accuracy')\n",
        "\n",
        "plt.show()"
      ]
    },
    {
      "cell_type": "markdown",
      "source": [
        "## **4. Evaluation**"
      ],
      "metadata": {
        "id": "CY9OpDyiPL2V"
      },
      "id": "CY9OpDyiPL2V"
    },
    {
      "cell_type": "code",
      "source": [
        "val_target = []\n",
        "val_predict = []\n",
        "\n",
        "model.eval()\n",
        "with torch.no_grad():\n",
        "    for X_val, y_val in val_loader:\n",
        "        X_val = X_val.to(device)\n",
        "        y_val = y_val.to(device)\n",
        "        outputs = model(X_val)\n",
        "\n",
        "        val_predict.append(outputs.cpu())\n",
        "        val_target.append(y_val.cpu())\n",
        "\n",
        "    val_predict = torch.cat(val_predict)\n",
        "    val_target = torch.cat(val_target)\n",
        "    val_acc = (torch.argmax(val_predict, 1) == val_target).sum().item() / len(val_target)\n",
        "\n",
        "    print('Evaluation on val set:')\n",
        "    print(f'Accuracy: {val_acc}')"
      ],
      "metadata": {
        "id": "VC8cygPWPKy6",
        "colab": {
          "base_uri": "https://localhost:8080/"
        },
        "outputId": "8997a6ab-1e38-4640-baa4-aba9cf322880"
      },
      "execution_count": null,
      "outputs": [
        {
          "output_type": "stream",
          "name": "stdout",
          "text": [
            "Evaluation on val set:\n",
            "Accuracy: 0.721\n"
          ]
        }
      ],
      "id": "VC8cygPWPKy6"
    },
    {
      "cell_type": "code",
      "source": [
        "test_target = []\n",
        "test_predict = []\n",
        "\n",
        "model.eval()\n",
        "with torch.no_grad():\n",
        "    for X_test, y_test in test_loader:\n",
        "        X_test = X_test.to(device)\n",
        "        y_test = y_test.to(device)\n",
        "        outputs = model(X_test)\n",
        "\n",
        "        test_predict.append(outputs.cpu())\n",
        "        test_target.append(y_test.cpu())\n",
        "\n",
        "    test_predict = torch.cat(test_predict)\n",
        "    test_target = torch.cat(test_target)\n",
        "    test_acc = (torch.argmax(test_predict, 1) == test_target).sum().item() / len(test_target)\n",
        "\n",
        "    print('Evaluation on test set:')\n",
        "    print(f'Accuracy: {test_acc}')"
      ],
      "metadata": {
        "colab": {
          "base_uri": "https://localhost:8080/"
        },
        "id": "gW970ZMvMVMz",
        "outputId": "1255c48a-465f-49cc-b624-e561b3b058be"
      },
      "id": "gW970ZMvMVMz",
      "execution_count": null,
      "outputs": [
        {
          "output_type": "stream",
          "name": "stdout",
          "text": [
            "Evaluation on test set:\n",
            "Accuracy: 0.7173\n"
          ]
        }
      ]
    }
  ],
  "metadata": {
    "colab": {
      "provenance": [],
      "gpuType": "T4"
    },
    "kernelspec": {
      "display_name": "Python 3",
      "name": "python3"
    },
    "language_info": {
      "codemirror_mode": {
        "name": "ipython",
        "version": 3
      },
      "file_extension": ".py",
      "mimetype": "text/x-python",
      "name": "python",
      "nbconvert_exporter": "python",
      "pygments_lexer": "ipython3",
      "version": "3.10.13"
    },
    "toc": {
      "base_numbering": 1,
      "nav_menu": {},
      "number_sections": true,
      "sideBar": true,
      "skip_h1_title": false,
      "title_cell": "Table of Contents",
      "title_sidebar": "Contents",
      "toc_cell": false,
      "toc_position": {},
      "toc_section_display": true,
      "toc_window_display": true
    },
    "accelerator": "GPU"
  },
  "nbformat": 4,
  "nbformat_minor": 5
}